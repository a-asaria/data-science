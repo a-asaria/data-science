{
 "cells": [
  {
   "cell_type": "code",
   "execution_count": 1,
   "id": "3ca0c4c2",
   "metadata": {
    "_cell_guid": "b1076dfc-b9ad-4769-8c92-a6c4dae69d19",
    "_uuid": "8f2839f25d086af736a60e9eeb907d3b93b6e0e5",
    "execution": {
     "iopub.execute_input": "2025-01-16T12:16:52.190919Z",
     "iopub.status.busy": "2025-01-16T12:16:52.190490Z",
     "iopub.status.idle": "2025-01-16T12:16:53.150193Z",
     "shell.execute_reply": "2025-01-16T12:16:53.149145Z"
    },
    "papermill": {
     "duration": 0.967644,
     "end_time": "2025-01-16T12:16:53.152090",
     "exception": false,
     "start_time": "2025-01-16T12:16:52.184446",
     "status": "completed"
    },
    "tags": []
   },
   "outputs": [
    {
     "name": "stdout",
     "output_type": "stream",
     "text": [
      "/kaggle/input/digit-recognizer/sample_submission.csv\n",
      "/kaggle/input/digit-recognizer/train.csv\n",
      "/kaggle/input/digit-recognizer/test.csv\n"
     ]
    }
   ],
   "source": [
    "# This Python 3 environment comes with many helpful analytics libraries installed\n",
    "# It is defined by the kaggle/python Docker image: https://github.com/kaggle/docker-python\n",
    "# For example, here's several helpful packages to load\n",
    "\n",
    "import numpy as np # linear algebra\n",
    "import pandas as pd # data processing, CSV file I/O (e.g. pd.read_csv)\n",
    "\n",
    "# Input data files are available in the read-only \"../input/\" directory\n",
    "# For example, running this (by clicking run or pressing Shift+Enter) will list all files under the input directory\n",
    "\n",
    "import os\n",
    "for dirname, _, filenames in os.walk('/kaggle/input'):\n",
    "    for filename in filenames:\n",
    "        print(os.path.join(dirname, filename))\n",
    "\n",
    "# You can write up to 20GB to the current directory (/kaggle/working/) that gets preserved as output when you create a version using \"Save & Run All\" \n",
    "# You can also write temporary files to /kaggle/temp/, but they won't be saved outside of the current session"
   ]
  },
  {
   "cell_type": "code",
   "execution_count": 2,
   "id": "3514b476",
   "metadata": {
    "execution": {
     "iopub.execute_input": "2025-01-16T12:16:53.162124Z",
     "iopub.status.busy": "2025-01-16T12:16:53.161523Z",
     "iopub.status.idle": "2025-01-16T12:16:56.466875Z",
     "shell.execute_reply": "2025-01-16T12:16:56.465775Z"
    },
    "papermill": {
     "duration": 3.312338,
     "end_time": "2025-01-16T12:16:56.468762",
     "exception": false,
     "start_time": "2025-01-16T12:16:53.156424",
     "status": "completed"
    },
    "tags": []
   },
   "outputs": [
    {
     "data": {
      "text/html": [
       "<div>\n",
       "<style scoped>\n",
       "    .dataframe tbody tr th:only-of-type {\n",
       "        vertical-align: middle;\n",
       "    }\n",
       "\n",
       "    .dataframe tbody tr th {\n",
       "        vertical-align: top;\n",
       "    }\n",
       "\n",
       "    .dataframe thead th {\n",
       "        text-align: right;\n",
       "    }\n",
       "</style>\n",
       "<table border=\"1\" class=\"dataframe\">\n",
       "  <thead>\n",
       "    <tr style=\"text-align: right;\">\n",
       "      <th></th>\n",
       "      <th>label</th>\n",
       "      <th>pixel0</th>\n",
       "      <th>pixel1</th>\n",
       "      <th>pixel2</th>\n",
       "      <th>pixel3</th>\n",
       "      <th>pixel4</th>\n",
       "      <th>pixel5</th>\n",
       "      <th>pixel6</th>\n",
       "      <th>pixel7</th>\n",
       "      <th>pixel8</th>\n",
       "      <th>...</th>\n",
       "      <th>pixel774</th>\n",
       "      <th>pixel775</th>\n",
       "      <th>pixel776</th>\n",
       "      <th>pixel777</th>\n",
       "      <th>pixel778</th>\n",
       "      <th>pixel779</th>\n",
       "      <th>pixel780</th>\n",
       "      <th>pixel781</th>\n",
       "      <th>pixel782</th>\n",
       "      <th>pixel783</th>\n",
       "    </tr>\n",
       "  </thead>\n",
       "  <tbody>\n",
       "    <tr>\n",
       "      <th>0</th>\n",
       "      <td>1</td>\n",
       "      <td>0</td>\n",
       "      <td>0</td>\n",
       "      <td>0</td>\n",
       "      <td>0</td>\n",
       "      <td>0</td>\n",
       "      <td>0</td>\n",
       "      <td>0</td>\n",
       "      <td>0</td>\n",
       "      <td>0</td>\n",
       "      <td>...</td>\n",
       "      <td>0</td>\n",
       "      <td>0</td>\n",
       "      <td>0</td>\n",
       "      <td>0</td>\n",
       "      <td>0</td>\n",
       "      <td>0</td>\n",
       "      <td>0</td>\n",
       "      <td>0</td>\n",
       "      <td>0</td>\n",
       "      <td>0</td>\n",
       "    </tr>\n",
       "    <tr>\n",
       "      <th>1</th>\n",
       "      <td>0</td>\n",
       "      <td>0</td>\n",
       "      <td>0</td>\n",
       "      <td>0</td>\n",
       "      <td>0</td>\n",
       "      <td>0</td>\n",
       "      <td>0</td>\n",
       "      <td>0</td>\n",
       "      <td>0</td>\n",
       "      <td>0</td>\n",
       "      <td>...</td>\n",
       "      <td>0</td>\n",
       "      <td>0</td>\n",
       "      <td>0</td>\n",
       "      <td>0</td>\n",
       "      <td>0</td>\n",
       "      <td>0</td>\n",
       "      <td>0</td>\n",
       "      <td>0</td>\n",
       "      <td>0</td>\n",
       "      <td>0</td>\n",
       "    </tr>\n",
       "    <tr>\n",
       "      <th>2</th>\n",
       "      <td>1</td>\n",
       "      <td>0</td>\n",
       "      <td>0</td>\n",
       "      <td>0</td>\n",
       "      <td>0</td>\n",
       "      <td>0</td>\n",
       "      <td>0</td>\n",
       "      <td>0</td>\n",
       "      <td>0</td>\n",
       "      <td>0</td>\n",
       "      <td>...</td>\n",
       "      <td>0</td>\n",
       "      <td>0</td>\n",
       "      <td>0</td>\n",
       "      <td>0</td>\n",
       "      <td>0</td>\n",
       "      <td>0</td>\n",
       "      <td>0</td>\n",
       "      <td>0</td>\n",
       "      <td>0</td>\n",
       "      <td>0</td>\n",
       "    </tr>\n",
       "    <tr>\n",
       "      <th>3</th>\n",
       "      <td>4</td>\n",
       "      <td>0</td>\n",
       "      <td>0</td>\n",
       "      <td>0</td>\n",
       "      <td>0</td>\n",
       "      <td>0</td>\n",
       "      <td>0</td>\n",
       "      <td>0</td>\n",
       "      <td>0</td>\n",
       "      <td>0</td>\n",
       "      <td>...</td>\n",
       "      <td>0</td>\n",
       "      <td>0</td>\n",
       "      <td>0</td>\n",
       "      <td>0</td>\n",
       "      <td>0</td>\n",
       "      <td>0</td>\n",
       "      <td>0</td>\n",
       "      <td>0</td>\n",
       "      <td>0</td>\n",
       "      <td>0</td>\n",
       "    </tr>\n",
       "    <tr>\n",
       "      <th>4</th>\n",
       "      <td>0</td>\n",
       "      <td>0</td>\n",
       "      <td>0</td>\n",
       "      <td>0</td>\n",
       "      <td>0</td>\n",
       "      <td>0</td>\n",
       "      <td>0</td>\n",
       "      <td>0</td>\n",
       "      <td>0</td>\n",
       "      <td>0</td>\n",
       "      <td>...</td>\n",
       "      <td>0</td>\n",
       "      <td>0</td>\n",
       "      <td>0</td>\n",
       "      <td>0</td>\n",
       "      <td>0</td>\n",
       "      <td>0</td>\n",
       "      <td>0</td>\n",
       "      <td>0</td>\n",
       "      <td>0</td>\n",
       "      <td>0</td>\n",
       "    </tr>\n",
       "  </tbody>\n",
       "</table>\n",
       "<p>5 rows × 785 columns</p>\n",
       "</div>"
      ],
      "text/plain": [
       "   label  pixel0  pixel1  pixel2  pixel3  pixel4  pixel5  pixel6  pixel7  \\\n",
       "0      1       0       0       0       0       0       0       0       0   \n",
       "1      0       0       0       0       0       0       0       0       0   \n",
       "2      1       0       0       0       0       0       0       0       0   \n",
       "3      4       0       0       0       0       0       0       0       0   \n",
       "4      0       0       0       0       0       0       0       0       0   \n",
       "\n",
       "   pixel8  ...  pixel774  pixel775  pixel776  pixel777  pixel778  pixel779  \\\n",
       "0       0  ...         0         0         0         0         0         0   \n",
       "1       0  ...         0         0         0         0         0         0   \n",
       "2       0  ...         0         0         0         0         0         0   \n",
       "3       0  ...         0         0         0         0         0         0   \n",
       "4       0  ...         0         0         0         0         0         0   \n",
       "\n",
       "   pixel780  pixel781  pixel782  pixel783  \n",
       "0         0         0         0         0  \n",
       "1         0         0         0         0  \n",
       "2         0         0         0         0  \n",
       "3         0         0         0         0  \n",
       "4         0         0         0         0  \n",
       "\n",
       "[5 rows x 785 columns]"
      ]
     },
     "execution_count": 2,
     "metadata": {},
     "output_type": "execute_result"
    }
   ],
   "source": [
    "# Examine dataframe\n",
    "\n",
    "df_train = pd.read_csv('/kaggle/input/digit-recognizer/train.csv')\n",
    "df_train.head()"
   ]
  },
  {
   "cell_type": "code",
   "execution_count": 3,
   "id": "d93a3ab6",
   "metadata": {
    "execution": {
     "iopub.execute_input": "2025-01-16T12:16:56.479350Z",
     "iopub.status.busy": "2025-01-16T12:16:56.478974Z",
     "iopub.status.idle": "2025-01-16T12:16:56.752099Z",
     "shell.execute_reply": "2025-01-16T12:16:56.751237Z"
    },
    "papermill": {
     "duration": 0.280446,
     "end_time": "2025-01-16T12:16:56.753973",
     "exception": false,
     "start_time": "2025-01-16T12:16:56.473527",
     "status": "completed"
    },
    "tags": []
   },
   "outputs": [],
   "source": [
    "# Let's split into X and y, normalize X\n",
    "\n",
    "y = df_train['label'].values\n",
    "X = df_train.drop(columns='label').values / 255.0"
   ]
  },
  {
   "cell_type": "code",
   "execution_count": 4,
   "id": "64ed7695",
   "metadata": {
    "execution": {
     "iopub.execute_input": "2025-01-16T12:16:56.763822Z",
     "iopub.status.busy": "2025-01-16T12:16:56.763444Z",
     "iopub.status.idle": "2025-01-16T12:16:56.767455Z",
     "shell.execute_reply": "2025-01-16T12:16:56.766426Z"
    },
    "papermill": {
     "duration": 0.010682,
     "end_time": "2025-01-16T12:16:56.769121",
     "exception": false,
     "start_time": "2025-01-16T12:16:56.758439",
     "status": "completed"
    },
    "tags": []
   },
   "outputs": [],
   "source": [
    "# Reshape X to 28,28,1 for the convolutional layer\n",
    "\n",
    "X = X.reshape(-1,28,28,1)"
   ]
  },
  {
   "cell_type": "code",
   "execution_count": 5,
   "id": "e29051f8",
   "metadata": {
    "execution": {
     "iopub.execute_input": "2025-01-16T12:16:56.779251Z",
     "iopub.status.busy": "2025-01-16T12:16:56.778874Z",
     "iopub.status.idle": "2025-01-16T12:17:12.011831Z",
     "shell.execute_reply": "2025-01-16T12:17:12.010033Z"
    },
    "papermill": {
     "duration": 15.240529,
     "end_time": "2025-01-16T12:17:12.014174",
     "exception": false,
     "start_time": "2025-01-16T12:16:56.773645",
     "status": "completed"
    },
    "tags": []
   },
   "outputs": [],
   "source": [
    "# Create data augmentation layer\n",
    "\n",
    "import tensorflow as tf \n",
    "from tensorflow.keras import layers, models\n",
    "\n",
    "data_augmentation = models.Sequential([\n",
    "    layers.RandomRotation(0.1),  # Randomly rotate\n",
    "    layers.RandomTranslation(height_factor=0.1, width_factor=0.1),  # Randomly shift\n",
    "    # layers.RandomZoom(0.1),  # Randomly zoom\n",
    "    # layers.RandomFlip(\"horizontal_and_vertical\"),  # Randomly flip\n",
    "])"
   ]
  },
  {
   "cell_type": "code",
   "execution_count": 6,
   "id": "500c1f66",
   "metadata": {
    "execution": {
     "iopub.execute_input": "2025-01-16T12:17:12.024819Z",
     "iopub.status.busy": "2025-01-16T12:17:12.024153Z",
     "iopub.status.idle": "2025-01-16T12:17:12.097305Z",
     "shell.execute_reply": "2025-01-16T12:17:12.096169Z"
    },
    "papermill": {
     "duration": 0.080313,
     "end_time": "2025-01-16T12:17:12.099048",
     "exception": false,
     "start_time": "2025-01-16T12:17:12.018735",
     "status": "completed"
    },
    "tags": []
   },
   "outputs": [
    {
     "name": "stderr",
     "output_type": "stream",
     "text": [
      "/usr/local/lib/python3.10/dist-packages/keras/src/layers/convolutional/base_conv.py:107: UserWarning: Do not pass an `input_shape`/`input_dim` argument to a layer. When using Sequential models, prefer using an `Input(shape)` object as the first layer in the model instead.\n",
      "  super().__init__(activity_regularizer=activity_regularizer, **kwargs)\n"
     ]
    }
   ],
   "source": [
    "# Define the model architecture\n",
    "\n",
    "model = tf.keras.models.Sequential([\n",
    "    layers.Input(shape=(28, 28, 1)),\n",
    "    data_augmentation,  # Adding the data augmentation layer\n",
    "    layers.Conv2D(32, (3, 3), activation='relu', input_shape=(28, 28, 1)),\n",
    "    layers.MaxPooling2D(pool_size=(2, 2)),\n",
    "    layers.Flatten(),\n",
    "    layers.Dense(128, activation='relu'),\n",
    "    layers.Dense(10, activation='linear')  # Have the softmax function in the loss layer with from_logits=True\n",
    "])"
   ]
  },
  {
   "cell_type": "code",
   "execution_count": 7,
   "id": "83b6da56",
   "metadata": {
    "execution": {
     "iopub.execute_input": "2025-01-16T12:17:12.109380Z",
     "iopub.status.busy": "2025-01-16T12:17:12.108974Z",
     "iopub.status.idle": "2025-01-16T12:17:12.123658Z",
     "shell.execute_reply": "2025-01-16T12:17:12.122453Z"
    },
    "papermill": {
     "duration": 0.022034,
     "end_time": "2025-01-16T12:17:12.125550",
     "exception": false,
     "start_time": "2025-01-16T12:17:12.103516",
     "status": "completed"
    },
    "tags": []
   },
   "outputs": [],
   "source": [
    "# Compile the model\n",
    "\n",
    "model.compile(\n",
    "    loss=tf.keras.losses.SparseCategoricalCrossentropy(from_logits=True),\n",
    "    optimizer=tf.keras.optimizers.Adam(learning_rate=0.001),\n",
    "    metrics=['accuracy']\n",
    ")"
   ]
  },
  {
   "cell_type": "code",
   "execution_count": 8,
   "id": "a69b5862",
   "metadata": {
    "execution": {
     "iopub.execute_input": "2025-01-16T12:17:12.136242Z",
     "iopub.status.busy": "2025-01-16T12:17:12.135796Z",
     "iopub.status.idle": "2025-01-16T12:26:11.803380Z",
     "shell.execute_reply": "2025-01-16T12:26:11.802265Z"
    },
    "papermill": {
     "duration": 539.675103,
     "end_time": "2025-01-16T12:26:11.805425",
     "exception": false,
     "start_time": "2025-01-16T12:17:12.130322",
     "status": "completed"
    },
    "tags": []
   },
   "outputs": [
    {
     "name": "stdout",
     "output_type": "stream",
     "text": [
      "Epoch 1/30\n",
      "\u001b[1m1182/1182\u001b[0m \u001b[32m━━━━━━━━━━━━━━━━━━━━\u001b[0m\u001b[37m\u001b[0m \u001b[1m21s\u001b[0m 16ms/step - accuracy: 0.7020 - loss: 0.9063 - val_accuracy: 0.9555 - val_loss: 0.1377\n",
      "Epoch 2/30\n",
      "\u001b[1m1182/1182\u001b[0m \u001b[32m━━━━━━━━━━━━━━━━━━━━\u001b[0m\u001b[37m\u001b[0m \u001b[1m18s\u001b[0m 16ms/step - accuracy: 0.9216 - loss: 0.2522 - val_accuracy: 0.9762 - val_loss: 0.0774\n",
      "Epoch 3/30\n",
      "\u001b[1m1182/1182\u001b[0m \u001b[32m━━━━━━━━━━━━━━━━━━━━\u001b[0m\u001b[37m\u001b[0m \u001b[1m18s\u001b[0m 16ms/step - accuracy: 0.9413 - loss: 0.1897 - val_accuracy: 0.9743 - val_loss: 0.0786\n",
      "Epoch 4/30\n",
      "\u001b[1m1182/1182\u001b[0m \u001b[32m━━━━━━━━━━━━━━━━━━━━\u001b[0m\u001b[37m\u001b[0m \u001b[1m19s\u001b[0m 16ms/step - accuracy: 0.9506 - loss: 0.1577 - val_accuracy: 0.9693 - val_loss: 0.0930\n",
      "Epoch 5/30\n",
      "\u001b[1m1182/1182\u001b[0m \u001b[32m━━━━━━━━━━━━━━━━━━━━\u001b[0m\u001b[37m\u001b[0m \u001b[1m18s\u001b[0m 15ms/step - accuracy: 0.9547 - loss: 0.1444 - val_accuracy: 0.9762 - val_loss: 0.0716\n",
      "Epoch 6/30\n",
      "\u001b[1m1182/1182\u001b[0m \u001b[32m━━━━━━━━━━━━━━━━━━━━\u001b[0m\u001b[37m\u001b[0m \u001b[1m18s\u001b[0m 15ms/step - accuracy: 0.9607 - loss: 0.1262 - val_accuracy: 0.9762 - val_loss: 0.0651\n",
      "Epoch 7/30\n",
      "\u001b[1m1182/1182\u001b[0m \u001b[32m━━━━━━━━━━━━━━━━━━━━\u001b[0m\u001b[37m\u001b[0m \u001b[1m17s\u001b[0m 15ms/step - accuracy: 0.9632 - loss: 0.1163 - val_accuracy: 0.9788 - val_loss: 0.0591\n",
      "Epoch 8/30\n",
      "\u001b[1m1182/1182\u001b[0m \u001b[32m━━━━━━━━━━━━━━━━━━━━\u001b[0m\u001b[37m\u001b[0m \u001b[1m18s\u001b[0m 15ms/step - accuracy: 0.9692 - loss: 0.1038 - val_accuracy: 0.9743 - val_loss: 0.0697\n",
      "Epoch 9/30\n",
      "\u001b[1m1182/1182\u001b[0m \u001b[32m━━━━━━━━━━━━━━━━━━━━\u001b[0m\u001b[37m\u001b[0m \u001b[1m18s\u001b[0m 15ms/step - accuracy: 0.9689 - loss: 0.0980 - val_accuracy: 0.9762 - val_loss: 0.0696\n",
      "Epoch 10/30\n",
      "\u001b[1m1182/1182\u001b[0m \u001b[32m━━━━━━━━━━━━━━━━━━━━\u001b[0m\u001b[37m\u001b[0m \u001b[1m18s\u001b[0m 16ms/step - accuracy: 0.9690 - loss: 0.0987 - val_accuracy: 0.9802 - val_loss: 0.0646\n",
      "Epoch 11/30\n",
      "\u001b[1m1182/1182\u001b[0m \u001b[32m━━━━━━━━━━━━━━━━━━━━\u001b[0m\u001b[37m\u001b[0m \u001b[1m18s\u001b[0m 15ms/step - accuracy: 0.9714 - loss: 0.0931 - val_accuracy: 0.9817 - val_loss: 0.0543\n",
      "Epoch 12/30\n",
      "\u001b[1m1182/1182\u001b[0m \u001b[32m━━━━━━━━━━━━━━━━━━━━\u001b[0m\u001b[37m\u001b[0m \u001b[1m18s\u001b[0m 15ms/step - accuracy: 0.9723 - loss: 0.0860 - val_accuracy: 0.9786 - val_loss: 0.0558\n",
      "Epoch 13/30\n",
      "\u001b[1m1182/1182\u001b[0m \u001b[32m━━━━━━━━━━━━━━━━━━━━\u001b[0m\u001b[37m\u001b[0m \u001b[1m18s\u001b[0m 15ms/step - accuracy: 0.9723 - loss: 0.0890 - val_accuracy: 0.9819 - val_loss: 0.0525\n",
      "Epoch 14/30\n",
      "\u001b[1m1182/1182\u001b[0m \u001b[32m━━━━━━━━━━━━━━━━━━━━\u001b[0m\u001b[37m\u001b[0m \u001b[1m17s\u001b[0m 15ms/step - accuracy: 0.9756 - loss: 0.0808 - val_accuracy: 0.9836 - val_loss: 0.0506\n",
      "Epoch 15/30\n",
      "\u001b[1m1182/1182\u001b[0m \u001b[32m━━━━━━━━━━━━━━━━━━━━\u001b[0m\u001b[37m\u001b[0m \u001b[1m18s\u001b[0m 15ms/step - accuracy: 0.9740 - loss: 0.0818 - val_accuracy: 0.9838 - val_loss: 0.0455\n",
      "Epoch 16/30\n",
      "\u001b[1m1182/1182\u001b[0m \u001b[32m━━━━━━━━━━━━━━━━━━━━\u001b[0m\u001b[37m\u001b[0m \u001b[1m17s\u001b[0m 15ms/step - accuracy: 0.9765 - loss: 0.0758 - val_accuracy: 0.9850 - val_loss: 0.0473\n",
      "Epoch 17/30\n",
      "\u001b[1m1182/1182\u001b[0m \u001b[32m━━━━━━━━━━━━━━━━━━━━\u001b[0m\u001b[37m\u001b[0m \u001b[1m18s\u001b[0m 15ms/step - accuracy: 0.9767 - loss: 0.0733 - val_accuracy: 0.9767 - val_loss: 0.0644\n",
      "Epoch 18/30\n",
      "\u001b[1m1182/1182\u001b[0m \u001b[32m━━━━━━━━━━━━━━━━━━━━\u001b[0m\u001b[37m\u001b[0m \u001b[1m17s\u001b[0m 15ms/step - accuracy: 0.9768 - loss: 0.0759 - val_accuracy: 0.9805 - val_loss: 0.0622\n",
      "Epoch 19/30\n",
      "\u001b[1m1182/1182\u001b[0m \u001b[32m━━━━━━━━━━━━━━━━━━━━\u001b[0m\u001b[37m\u001b[0m \u001b[1m18s\u001b[0m 15ms/step - accuracy: 0.9775 - loss: 0.0738 - val_accuracy: 0.9802 - val_loss: 0.0639\n",
      "Epoch 20/30\n",
      "\u001b[1m1182/1182\u001b[0m \u001b[32m━━━━━━━━━━━━━━━━━━━━\u001b[0m\u001b[37m\u001b[0m \u001b[1m17s\u001b[0m 15ms/step - accuracy: 0.9791 - loss: 0.0698 - val_accuracy: 0.9852 - val_loss: 0.0441\n",
      "Epoch 21/30\n",
      "\u001b[1m1182/1182\u001b[0m \u001b[32m━━━━━━━━━━━━━━━━━━━━\u001b[0m\u001b[37m\u001b[0m \u001b[1m18s\u001b[0m 15ms/step - accuracy: 0.9789 - loss: 0.0632 - val_accuracy: 0.9860 - val_loss: 0.0453\n",
      "Epoch 22/30\n",
      "\u001b[1m1182/1182\u001b[0m \u001b[32m━━━━━━━━━━━━━━━━━━━━\u001b[0m\u001b[37m\u001b[0m \u001b[1m18s\u001b[0m 15ms/step - accuracy: 0.9802 - loss: 0.0645 - val_accuracy: 0.9862 - val_loss: 0.0443\n",
      "Epoch 23/30\n",
      "\u001b[1m1182/1182\u001b[0m \u001b[32m━━━━━━━━━━━━━━━━━━━━\u001b[0m\u001b[37m\u001b[0m \u001b[1m18s\u001b[0m 15ms/step - accuracy: 0.9820 - loss: 0.0592 - val_accuracy: 0.9833 - val_loss: 0.0456\n",
      "Epoch 24/30\n",
      "\u001b[1m1182/1182\u001b[0m \u001b[32m━━━━━━━━━━━━━━━━━━━━\u001b[0m\u001b[37m\u001b[0m \u001b[1m18s\u001b[0m 15ms/step - accuracy: 0.9786 - loss: 0.0656 - val_accuracy: 0.9843 - val_loss: 0.0531\n",
      "Epoch 25/30\n",
      "\u001b[1m1182/1182\u001b[0m \u001b[32m━━━━━━━━━━━━━━━━━━━━\u001b[0m\u001b[37m\u001b[0m \u001b[1m18s\u001b[0m 15ms/step - accuracy: 0.9797 - loss: 0.0679 - val_accuracy: 0.9857 - val_loss: 0.0483\n",
      "Epoch 26/30\n",
      "\u001b[1m1182/1182\u001b[0m \u001b[32m━━━━━━━━━━━━━━━━━━━━\u001b[0m\u001b[37m\u001b[0m \u001b[1m18s\u001b[0m 15ms/step - accuracy: 0.9819 - loss: 0.0587 - val_accuracy: 0.9848 - val_loss: 0.0492\n",
      "Epoch 27/30\n",
      "\u001b[1m1182/1182\u001b[0m \u001b[32m━━━━━━━━━━━━━━━━━━━━\u001b[0m\u001b[37m\u001b[0m \u001b[1m17s\u001b[0m 15ms/step - accuracy: 0.9807 - loss: 0.0623 - val_accuracy: 0.9881 - val_loss: 0.0419\n",
      "Epoch 28/30\n",
      "\u001b[1m1182/1182\u001b[0m \u001b[32m━━━━━━━━━━━━━━━━━━━━\u001b[0m\u001b[37m\u001b[0m \u001b[1m18s\u001b[0m 15ms/step - accuracy: 0.9823 - loss: 0.0576 - val_accuracy: 0.9836 - val_loss: 0.0536\n",
      "Epoch 29/30\n",
      "\u001b[1m1182/1182\u001b[0m \u001b[32m━━━━━━━━━━━━━━━━━━━━\u001b[0m\u001b[37m\u001b[0m \u001b[1m18s\u001b[0m 15ms/step - accuracy: 0.9838 - loss: 0.0534 - val_accuracy: 0.9826 - val_loss: 0.0556\n",
      "Epoch 30/30\n",
      "\u001b[1m1182/1182\u001b[0m \u001b[32m━━━━━━━━━━━━━━━━━━━━\u001b[0m\u001b[37m\u001b[0m \u001b[1m18s\u001b[0m 15ms/step - accuracy: 0.9826 - loss: 0.0553 - val_accuracy: 0.9845 - val_loss: 0.0438\n"
     ]
    }
   ],
   "source": [
    "# Fit the model\n",
    "\n",
    "history = model.fit(\n",
    "    X,y,\n",
    "    epochs=30,\n",
    "    validation_split = 0.1\n",
    ")"
   ]
  },
  {
   "cell_type": "code",
   "execution_count": 9,
   "id": "159833b3",
   "metadata": {
    "execution": {
     "iopub.execute_input": "2025-01-16T12:26:12.920406Z",
     "iopub.status.busy": "2025-01-16T12:26:12.920007Z",
     "iopub.status.idle": "2025-01-16T12:26:13.488578Z",
     "shell.execute_reply": "2025-01-16T12:26:13.487478Z"
    },
    "papermill": {
     "duration": 1.094242,
     "end_time": "2025-01-16T12:26:13.490262",
     "exception": false,
     "start_time": "2025-01-16T12:26:12.396020",
     "status": "completed"
    },
    "tags": []
   },
   "outputs": [
    {
     "data": {
      "text/plain": [
       "<matplotlib.legend.Legend at 0x7eceb4605b70>"
      ]
     },
     "execution_count": 9,
     "metadata": {},
     "output_type": "execute_result"
    },
    {
     "data": {
      "image/png": "[encoded data removed]",
      "text/plain": [
       "<Figure size 640x480 with 2 Axes>"
      ]
     },
     "metadata": {},
     "output_type": "display_data"
    }
   ],
   "source": [
    "# Plot loss and accuracy\n",
    "from matplotlib import pyplot as plt\n",
    "\n",
    "fig, (ax1, ax2) = plt.subplots(1, 2)\n",
    "plt.tight_layout()\n",
    "fig.suptitle('Loss and Accuracy of training and validation sets')\n",
    "ax1.plot((history.history['loss']))\n",
    "ax1.plot((history.history['val_loss']))\n",
    "ax1.set_title('model loss vs epochs')\n",
    "ax1.set(ylabel='loss', xlabel='epoch')\n",
    "ax1.legend(['train', 'val'], loc='upper left')\n",
    "\n",
    "ax2.plot((history.history['accuracy']))\n",
    "ax2.plot((history.history['val_accuracy']))\n",
    "ax2.set_title('model accuracy vs epochs')\n",
    "ax2.set(ylabel='accuracy', xlabel='epoch')\n",
    "ax2.legend(['train', 'val'], loc='upper left')\n",
    "\n"
   ]
  },
  {
   "cell_type": "markdown",
   "id": "37d35be4",
   "metadata": {
    "papermill": {
     "duration": 0.587244,
     "end_time": "2025-01-16T12:26:14.601126",
     "exception": false,
     "start_time": "2025-01-16T12:26:14.013882",
     "status": "completed"
    },
    "tags": []
   },
   "source": [
    "This looks good"
   ]
  },
  {
   "cell_type": "markdown",
   "id": "3989dc9f",
   "metadata": {
    "papermill": {
     "duration": 0.583155,
     "end_time": "2025-01-16T12:26:15.709443",
     "exception": false,
     "start_time": "2025-01-16T12:26:15.126288",
     "status": "completed"
    },
    "tags": []
   },
   "source": [
    "# Predictions"
   ]
  },
  {
   "cell_type": "code",
   "execution_count": 10,
   "id": "b05b8f56",
   "metadata": {
    "execution": {
     "iopub.execute_input": "2025-01-16T12:26:16.739550Z",
     "iopub.status.busy": "2025-01-16T12:26:16.739206Z",
     "iopub.status.idle": "2025-01-16T12:26:18.703903Z",
     "shell.execute_reply": "2025-01-16T12:26:18.702795Z"
    },
    "papermill": {
     "duration": 2.480139,
     "end_time": "2025-01-16T12:26:18.705621",
     "exception": false,
     "start_time": "2025-01-16T12:26:16.225482",
     "status": "completed"
    },
    "tags": []
   },
   "outputs": [
    {
     "data": {
      "text/html": [
       "<div>\n",
       "<style scoped>\n",
       "    .dataframe tbody tr th:only-of-type {\n",
       "        vertical-align: middle;\n",
       "    }\n",
       "\n",
       "    .dataframe tbody tr th {\n",
       "        vertical-align: top;\n",
       "    }\n",
       "\n",
       "    .dataframe thead th {\n",
       "        text-align: right;\n",
       "    }\n",
       "</style>\n",
       "<table border=\"1\" class=\"dataframe\">\n",
       "  <thead>\n",
       "    <tr style=\"text-align: right;\">\n",
       "      <th></th>\n",
       "      <th>pixel0</th>\n",
       "      <th>pixel1</th>\n",
       "      <th>pixel2</th>\n",
       "      <th>pixel3</th>\n",
       "      <th>pixel4</th>\n",
       "      <th>pixel5</th>\n",
       "      <th>pixel6</th>\n",
       "      <th>pixel7</th>\n",
       "      <th>pixel8</th>\n",
       "      <th>pixel9</th>\n",
       "      <th>...</th>\n",
       "      <th>pixel774</th>\n",
       "      <th>pixel775</th>\n",
       "      <th>pixel776</th>\n",
       "      <th>pixel777</th>\n",
       "      <th>pixel778</th>\n",
       "      <th>pixel779</th>\n",
       "      <th>pixel780</th>\n",
       "      <th>pixel781</th>\n",
       "      <th>pixel782</th>\n",
       "      <th>pixel783</th>\n",
       "    </tr>\n",
       "  </thead>\n",
       "  <tbody>\n",
       "    <tr>\n",
       "      <th>0</th>\n",
       "      <td>0</td>\n",
       "      <td>0</td>\n",
       "      <td>0</td>\n",
       "      <td>0</td>\n",
       "      <td>0</td>\n",
       "      <td>0</td>\n",
       "      <td>0</td>\n",
       "      <td>0</td>\n",
       "      <td>0</td>\n",
       "      <td>0</td>\n",
       "      <td>...</td>\n",
       "      <td>0</td>\n",
       "      <td>0</td>\n",
       "      <td>0</td>\n",
       "      <td>0</td>\n",
       "      <td>0</td>\n",
       "      <td>0</td>\n",
       "      <td>0</td>\n",
       "      <td>0</td>\n",
       "      <td>0</td>\n",
       "      <td>0</td>\n",
       "    </tr>\n",
       "    <tr>\n",
       "      <th>1</th>\n",
       "      <td>0</td>\n",
       "      <td>0</td>\n",
       "      <td>0</td>\n",
       "      <td>0</td>\n",
       "      <td>0</td>\n",
       "      <td>0</td>\n",
       "      <td>0</td>\n",
       "      <td>0</td>\n",
       "      <td>0</td>\n",
       "      <td>0</td>\n",
       "      <td>...</td>\n",
       "      <td>0</td>\n",
       "      <td>0</td>\n",
       "      <td>0</td>\n",
       "      <td>0</td>\n",
       "      <td>0</td>\n",
       "      <td>0</td>\n",
       "      <td>0</td>\n",
       "      <td>0</td>\n",
       "      <td>0</td>\n",
       "      <td>0</td>\n",
       "    </tr>\n",
       "    <tr>\n",
       "      <th>2</th>\n",
       "      <td>0</td>\n",
       "      <td>0</td>\n",
       "      <td>0</td>\n",
       "      <td>0</td>\n",
       "      <td>0</td>\n",
       "      <td>0</td>\n",
       "      <td>0</td>\n",
       "      <td>0</td>\n",
       "      <td>0</td>\n",
       "      <td>0</td>\n",
       "      <td>...</td>\n",
       "      <td>0</td>\n",
       "      <td>0</td>\n",
       "      <td>0</td>\n",
       "      <td>0</td>\n",
       "      <td>0</td>\n",
       "      <td>0</td>\n",
       "      <td>0</td>\n",
       "      <td>0</td>\n",
       "      <td>0</td>\n",
       "      <td>0</td>\n",
       "    </tr>\n",
       "    <tr>\n",
       "      <th>3</th>\n",
       "      <td>0</td>\n",
       "      <td>0</td>\n",
       "      <td>0</td>\n",
       "      <td>0</td>\n",
       "      <td>0</td>\n",
       "      <td>0</td>\n",
       "      <td>0</td>\n",
       "      <td>0</td>\n",
       "      <td>0</td>\n",
       "      <td>0</td>\n",
       "      <td>...</td>\n",
       "      <td>0</td>\n",
       "      <td>0</td>\n",
       "      <td>0</td>\n",
       "      <td>0</td>\n",
       "      <td>0</td>\n",
       "      <td>0</td>\n",
       "      <td>0</td>\n",
       "      <td>0</td>\n",
       "      <td>0</td>\n",
       "      <td>0</td>\n",
       "    </tr>\n",
       "    <tr>\n",
       "      <th>4</th>\n",
       "      <td>0</td>\n",
       "      <td>0</td>\n",
       "      <td>0</td>\n",
       "      <td>0</td>\n",
       "      <td>0</td>\n",
       "      <td>0</td>\n",
       "      <td>0</td>\n",
       "      <td>0</td>\n",
       "      <td>0</td>\n",
       "      <td>0</td>\n",
       "      <td>...</td>\n",
       "      <td>0</td>\n",
       "      <td>0</td>\n",
       "      <td>0</td>\n",
       "      <td>0</td>\n",
       "      <td>0</td>\n",
       "      <td>0</td>\n",
       "      <td>0</td>\n",
       "      <td>0</td>\n",
       "      <td>0</td>\n",
       "      <td>0</td>\n",
       "    </tr>\n",
       "  </tbody>\n",
       "</table>\n",
       "<p>5 rows × 784 columns</p>\n",
       "</div>"
      ],
      "text/plain": [
       "   pixel0  pixel1  pixel2  pixel3  pixel4  pixel5  pixel6  pixel7  pixel8  \\\n",
       "0       0       0       0       0       0       0       0       0       0   \n",
       "1       0       0       0       0       0       0       0       0       0   \n",
       "2       0       0       0       0       0       0       0       0       0   \n",
       "3       0       0       0       0       0       0       0       0       0   \n",
       "4       0       0       0       0       0       0       0       0       0   \n",
       "\n",
       "   pixel9  ...  pixel774  pixel775  pixel776  pixel777  pixel778  pixel779  \\\n",
       "0       0  ...         0         0         0         0         0         0   \n",
       "1       0  ...         0         0         0         0         0         0   \n",
       "2       0  ...         0         0         0         0         0         0   \n",
       "3       0  ...         0         0         0         0         0         0   \n",
       "4       0  ...         0         0         0         0         0         0   \n",
       "\n",
       "   pixel780  pixel781  pixel782  pixel783  \n",
       "0         0         0         0         0  \n",
       "1         0         0         0         0  \n",
       "2         0         0         0         0  \n",
       "3         0         0         0         0  \n",
       "4         0         0         0         0  \n",
       "\n",
       "[5 rows x 784 columns]"
      ]
     },
     "execution_count": 10,
     "metadata": {},
     "output_type": "execute_result"
    }
   ],
   "source": [
    "df_test = pd.read_csv('/kaggle/input/digit-recognizer/test.csv')\n",
    "df_test.head()"
   ]
  },
  {
   "cell_type": "code",
   "execution_count": 11,
   "id": "4d272edc",
   "metadata": {
    "execution": {
     "iopub.execute_input": "2025-01-16T12:26:19.815535Z",
     "iopub.status.busy": "2025-01-16T12:26:19.815179Z",
     "iopub.status.idle": "2025-01-16T12:26:19.926448Z",
     "shell.execute_reply": "2025-01-16T12:26:19.925409Z"
    },
    "papermill": {
     "duration": 0.633194,
     "end_time": "2025-01-16T12:26:19.928292",
     "exception": false,
     "start_time": "2025-01-16T12:26:19.295098",
     "status": "completed"
    },
    "tags": []
   },
   "outputs": [],
   "source": [
    "# Reshape and normalize df_test\n",
    "\n",
    "X_test = (df_test.values / 255.0).reshape(-1,28,28,1)"
   ]
  },
  {
   "cell_type": "code",
   "execution_count": 12,
   "id": "916a4a76",
   "metadata": {
    "execution": {
     "iopub.execute_input": "2025-01-16T12:26:21.032802Z",
     "iopub.status.busy": "2025-01-16T12:26:21.032227Z",
     "iopub.status.idle": "2025-01-16T12:26:25.208197Z",
     "shell.execute_reply": "2025-01-16T12:26:25.207199Z"
    },
    "papermill": {
     "duration": 4.762142,
     "end_time": "2025-01-16T12:26:25.210320",
     "exception": false,
     "start_time": "2025-01-16T12:26:20.448178",
     "status": "completed"
    },
    "tags": []
   },
   "outputs": [
    {
     "name": "stdout",
     "output_type": "stream",
     "text": [
      "\u001b[1m875/875\u001b[0m \u001b[32m━━━━━━━━━━━━━━━━━━━━\u001b[0m\u001b[37m\u001b[0m \u001b[1m4s\u001b[0m 4ms/step\n"
     ]
    }
   ],
   "source": [
    "predictions = model.predict(X_test)"
   ]
  },
  {
   "cell_type": "code",
   "execution_count": 13,
   "id": "0d6d70b6",
   "metadata": {
    "execution": {
     "iopub.execute_input": "2025-01-16T12:26:26.269204Z",
     "iopub.status.busy": "2025-01-16T12:26:26.268607Z",
     "iopub.status.idle": "2025-01-16T12:26:26.275013Z",
     "shell.execute_reply": "2025-01-16T12:26:26.273904Z"
    },
    "papermill": {
     "duration": 0.545282,
     "end_time": "2025-01-16T12:26:26.276817",
     "exception": false,
     "start_time": "2025-01-16T12:26:25.731535",
     "status": "completed"
    },
    "tags": []
   },
   "outputs": [],
   "source": [
    "predicted_labels = np.argmax(predictions, axis=1)"
   ]
  },
  {
   "cell_type": "code",
   "execution_count": 14,
   "id": "d7003e21",
   "metadata": {
    "execution": {
     "iopub.execute_input": "2025-01-16T12:26:27.444908Z",
     "iopub.status.busy": "2025-01-16T12:26:27.444291Z",
     "iopub.status.idle": "2025-01-16T12:26:27.450818Z",
     "shell.execute_reply": "2025-01-16T12:26:27.449865Z"
    },
    "papermill": {
     "duration": 0.577375,
     "end_time": "2025-01-16T12:26:27.452503",
     "exception": false,
     "start_time": "2025-01-16T12:26:26.875128",
     "status": "completed"
    },
    "tags": []
   },
   "outputs": [
    {
     "data": {
      "text/plain": [
       "array([2, 0, 9, ..., 3, 9, 2])"
      ]
     },
     "execution_count": 14,
     "metadata": {},
     "output_type": "execute_result"
    }
   ],
   "source": [
    "predicted_labels"
   ]
  },
  {
   "cell_type": "code",
   "execution_count": 15,
   "id": "4b01126a",
   "metadata": {
    "execution": {
     "iopub.execute_input": "2025-01-16T12:26:28.579200Z",
     "iopub.status.busy": "2025-01-16T12:26:28.578806Z",
     "iopub.status.idle": "2025-01-16T12:26:28.608618Z",
     "shell.execute_reply": "2025-01-16T12:26:28.607529Z"
    },
    "papermill": {
     "duration": 0.559104,
     "end_time": "2025-01-16T12:26:28.610262",
     "exception": false,
     "start_time": "2025-01-16T12:26:28.051158",
     "status": "completed"
    },
    "tags": []
   },
   "outputs": [
    {
     "name": "stdout",
     "output_type": "stream",
     "text": [
      "Submission file created.\n"
     ]
    }
   ],
   "source": [
    "submission = pd.DataFrame(\n",
    "    {\"ImageId\": np.arange(1, len(predicted_labels) + 1), \"Label\": predicted_labels}\n",
    ")\n",
    "\n",
    "submission.to_csv(\"submission.csv\", index=False)\n",
    "print(\"Submission file created.\")"
   ]
  }
 ],
 "metadata": {
  "kaggle": {
   "accelerator": "none",
   "dataSources": [
    {
     "databundleVersionId": 861823,
     "sourceId": 3004,
     "sourceType": "competition"
    }
   ],
   "dockerImageVersionId": 30839,
   "isGpuEnabled": false,
   "isInternetEnabled": false,
   "language": "python",
   "sourceType": "notebook"
  },
  "kernelspec": {
   "display_name": "Python 3",
   "language": "python",
   "name": "python3"
  },
  "language_info": {
   "codemirror_mode": {
    "name": "ipython",
    "version": 3
   },
   "file_extension": ".py",
   "mimetype": "text/x-python",
   "name": "python",
   "nbconvert_exporter": "python",
   "pygments_lexer": "ipython3",
   "version": "3.10.12"
  },
  "papermill": {
   "default_parameters": {},
   "duration": 582.254266,
   "end_time": "2025-01-16T12:26:31.551612",
   "environment_variables": {},
   "exception": null,
   "input_path": "__notebook__.ipynb",
   "output_path": "__notebook__.ipynb",
   "parameters": {},
   "start_time": "2025-01-16T12:16:49.297346",
   "version": "2.6.0"
  }
 },
 "nbformat": 4,
 "nbformat_minor": 5
}
